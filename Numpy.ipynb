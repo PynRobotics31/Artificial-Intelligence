{
 "cells": [
  {
   "cell_type": "code",
   "execution_count": 1,
   "id": "744ad08d-73ea-4b88-ab55-b90ca39fdf66",
   "metadata": {},
   "outputs": [],
   "source": [
    "import numpy as np"
   ]
  },
  {
   "cell_type": "code",
   "execution_count": 2,
   "id": "6f89955d-1ae4-4704-adbc-cfbd3440eea5",
   "metadata": {},
   "outputs": [
    {
     "data": {
      "text/plain": [
       "array([1, 2, 3, 4, 5, 6])"
      ]
     },
     "execution_count": 2,
     "metadata": {},
     "output_type": "execute_result"
    }
   ],
   "source": [
    "arr_1d=np.array([1, 2,3,4,5,6]) \n",
    "arr_1d#This is a 1dimensional array"
   ]
  },
  {
   "cell_type": "code",
   "execution_count": 3,
   "id": "0af36db0-0af9-4c9e-926f-c585648d7a8d",
   "metadata": {},
   "outputs": [
    {
     "data": {
      "text/plain": [
       "array([[1, 2, 3],\n",
       "       [4, 5, 6]])"
      ]
     },
     "execution_count": 3,
     "metadata": {},
     "output_type": "execute_result"
    }
   ],
   "source": [
    "arr_2d=np.array([[1, 2,3], \n",
    "                 [4, 5,6]]) \n",
    "arr_2d#This is a 2D array/matrix"
   ]
  },
  {
   "cell_type": "code",
   "execution_count": 4,
   "id": "2bebc275-ba8f-4a06-a4fe-dafebfd771c8",
   "metadata": {},
   "outputs": [
    {
     "data": {
      "text/plain": [
       "array([[[1, 2, 3],\n",
       "        [4, 5, 6],\n",
       "        [7, 8, 9]]])"
      ]
     },
     "execution_count": 4,
     "metadata": {},
     "output_type": "execute_result"
    }
   ],
   "source": [
    "arr_3d=np.array([[[1, 2,3], \n",
    "                  [4, 5,6], \n",
    "                  [7, 8,9]]]) \n",
    "arr_3d"
   ]
  },
  {
   "cell_type": "code",
   "execution_count": 5,
   "id": "49a6e89c-ada7-4b10-b038-99c30919ab20",
   "metadata": {},
   "outputs": [
    {
     "data": {
      "text/plain": [
       "array([0., 0., 0., 0., 0., 0., 0., 0., 0., 0.])"
      ]
     },
     "execution_count": 5,
     "metadata": {},
     "output_type": "execute_result"
    }
   ],
   "source": [
    "zeros=np.zeros(10) \n",
    "zeros#This code will return 1D array the element will be zero"
   ]
  },
  {
   "cell_type": "code",
   "execution_count": 6,
   "id": "7abddc76-c573-4b4d-92b3-2743fdd3dd59",
   "metadata": {},
   "outputs": [
    {
     "data": {
      "text/plain": [
       "array([[0., 0., 0.],\n",
       "       [0., 0., 0.],\n",
       "       [0., 0., 0.]])"
      ]
     },
     "execution_count": 6,
     "metadata": {},
     "output_type": "execute_result"
    }
   ],
   "source": [
    "zeros_3d=np.zeros((3, 3)) \n",
    "zeros_3d#This code will return 3D array the element will be zero"
   ]
  },
  {
   "cell_type": "code",
   "execution_count": 7,
   "id": "c93d7e7f-b493-431b-aa75-198fda2cd7d6",
   "metadata": {},
   "outputs": [
    {
     "data": {
      "text/plain": [
       "array([1., 1., 1., 1., 1., 1., 1., 1., 1., 1.])"
      ]
     },
     "execution_count": 7,
     "metadata": {},
     "output_type": "execute_result"
    }
   ],
   "source": [
    "ones=np.ones(10) \n",
    "ones#this code will return 1D array. And the element will be one"
   ]
  },
  {
   "cell_type": "code",
   "execution_count": 8,
   "id": "6fcccd48-f968-421a-aa44-72416df9893d",
   "metadata": {},
   "outputs": [
    {
     "data": {
      "text/plain": [
       "array([[1., 1.],\n",
       "       [1., 1.]])"
      ]
     },
     "execution_count": 8,
     "metadata": {},
     "output_type": "execute_result"
    }
   ],
   "source": [
    "one_2d = np.ones((2, 2)) \n",
    "one_2d#this will return 2D array. all the element will be 1"
   ]
  },
  {
   "cell_type": "code",
   "execution_count": 9,
   "id": "52cc4fa6-4ef4-4f94-9bcc-afbb43098f57",
   "metadata": {},
   "outputs": [
    {
     "data": {
      "text/plain": [
       "array([7, 7, 7, 7, 7, 7, 7, 7, 7, 7])"
      ]
     },
     "execution_count": 9,
     "metadata": {},
     "output_type": "execute_result"
    }
   ],
   "source": [
    "filled_arr=np.full(10, 7) \n",
    "filled_arr#this will return 1d 10 element array all the element will be 7"
   ]
  },
  {
   "cell_type": "code",
   "execution_count": 10,
   "id": "716cff0d-d4ac-420a-8dd5-f2add7fee40c",
   "metadata": {},
   "outputs": [
    {
     "data": {
      "text/plain": [
       "array([[10, 10],\n",
       "       [10, 10]])"
      ]
     },
     "execution_count": 10,
     "metadata": {},
     "output_type": "execute_result"
    }
   ],
   "source": [
    "filled_2d_arr=np.full((2, 2), 10) \n",
    "filled_2d_arr#This will return 2d array and all the element will be 10"
   ]
  },
  {
   "cell_type": "code",
   "execution_count": 11,
   "id": "432c9524-036c-4fe1-8cf4-860c87622c72",
   "metadata": {},
   "outputs": [
    {
     "data": {
      "text/plain": [
       "array([1, 3, 5, 7, 9])"
      ]
     },
     "execution_count": 11,
     "metadata": {},
     "output_type": "execute_result"
    }
   ],
   "source": [
    "test_arr=np.arange(1, 10,2) \n",
    "test_arr#This code will return 1d array all the element will be odd number"
   ]
  },
  {
   "cell_type": "code",
   "execution_count": 12,
   "id": "9e9326c8-d897-4abb-b081-74a76f9956e6",
   "metadata": {},
   "outputs": [
    {
     "data": {
      "text/plain": [
       "array([[1., 0., 0.],\n",
       "       [0., 1., 0.],\n",
       "       [0., 0., 1.]])"
      ]
     },
     "execution_count": 12,
     "metadata": {},
     "output_type": "execute_result"
    }
   ],
   "source": [
    "identity=np.eye(3) \n",
    "identity"
   ]
  },
  {
   "cell_type": "code",
   "execution_count": 13,
   "id": "d2daebe2-fc4c-410d-b48e-09b9fac1fba8",
   "metadata": {},
   "outputs": [
    {
     "data": {
      "text/plain": [
       "(2, 3)"
      ]
     },
     "execution_count": 13,
     "metadata": {},
     "output_type": "execute_result"
    }
   ],
   "source": [
    "test_2d=np.array([[1, 2,3], \n",
    "                  [4, 5,6]]) \n",
    "test_2d.shape#returns the shape of a array"
   ]
  },
  {
   "cell_type": "code",
   "execution_count": 14,
   "id": "bfcc7945-f526-47f8-b439-d7ba2b73628f",
   "metadata": {},
   "outputs": [
    {
     "data": {
      "text/plain": [
       "6"
      ]
     },
     "execution_count": 14,
     "metadata": {},
     "output_type": "execute_result"
    }
   ],
   "source": [
    "test_2d.size#returns the size of a array"
   ]
  },
  {
   "cell_type": "code",
   "execution_count": 15,
   "id": "6d50f516-10f7-4552-a7f9-4ebda94ad4b3",
   "metadata": {},
   "outputs": [
    {
     "data": {
      "text/plain": [
       "2"
      ]
     },
     "execution_count": 15,
     "metadata": {},
     "output_type": "execute_result"
    }
   ],
   "source": [
    "test_2d.ndim#returns the dimenson of a array"
   ]
  },
  {
   "cell_type": "code",
   "execution_count": 16,
   "id": "8752b1f8-50ce-4778-bb38-b7dc7be80d1d",
   "metadata": {},
   "outputs": [
    {
     "data": {
      "text/plain": [
       "dtype('int32')"
      ]
     },
     "execution_count": 16,
     "metadata": {},
     "output_type": "execute_result"
    }
   ],
   "source": [
    "test_2d.dtype"
   ]
  },
  {
   "cell_type": "code",
   "execution_count": 17,
   "id": "98c6726a-9d92-41eb-8f16-aac8b3af96b7",
   "metadata": {},
   "outputs": [
    {
     "data": {
      "text/plain": [
       "array([10, 20, 30, 40, 50, 60])"
      ]
     },
     "execution_count": 17,
     "metadata": {},
     "output_type": "execute_result"
    }
   ],
   "source": [
    "type_arr=np.array([10.0, 20.0,30.0,40.0,50.0,60.0]) \n",
    "int_arr=type_arr.astype(int) \n",
    "int_arr#convert the datatype of a array's element"
   ]
  },
  {
   "cell_type": "code",
   "execution_count": 18,
   "id": "0bc44f7e-4ca5-4e31-a5dc-8b72a402128f",
   "metadata": {},
   "outputs": [
    {
     "name": "stdout",
     "output_type": "stream",
     "text": [
      "[15 25 35 45 55 65]\n",
      "[ 5 15 25 35 45 55]\n",
      "[ 50 100 150 200 250 300]\n",
      "[ 2.  4.  6.  8. 10. 12.]\n"
     ]
    }
   ],
   "source": [
    "math_arr=np.array([10, 20,30,40,50,60]) \n",
    "print(math_arr+5)#it will plus 5 to all element of the array\n",
    "print(math_arr-5)#it will minus 5 to all the element of a array\n",
    "print(math_arr*5) #it will multiply 5 to all the elemtn of a array\n",
    "print(math_arr/5) #it will devide 5 to all the element of a array"
   ]
  },
  {
   "cell_type": "code",
   "execution_count": 19,
   "id": "1b5a2043-4a24-45d5-823c-8a249e5547fa",
   "metadata": {},
   "outputs": [
    {
     "name": "stdout",
     "output_type": "stream",
     "text": [
      "210\n"
     ]
    }
   ],
   "source": [
    "print(np.sum(math_arr)) #it will sum all the element of a array"
   ]
  },
  {
   "cell_type": "code",
   "execution_count": 20,
   "id": "0f25aa8b-1086-4f56-815e-5d29f01d3961",
   "metadata": {},
   "outputs": [
    {
     "name": "stdout",
     "output_type": "stream",
     "text": [
      "35.0\n"
     ]
    }
   ],
   "source": [
    "print(np.mean(math_arr))#return the avarage of all element of a array"
   ]
  },
  {
   "cell_type": "code",
   "execution_count": 21,
   "id": "81302b63-3062-4cd4-bcf6-0bbcfa0918ce",
   "metadata": {},
   "outputs": [
    {
     "name": "stdout",
     "output_type": "stream",
     "text": [
      "60\n"
     ]
    }
   ],
   "source": [
    "print(np.max(math_arr)) #return the maximum value of an array"
   ]
  },
  {
   "cell_type": "code",
   "execution_count": 22,
   "id": "f419b279-d480-4934-8e88-65efadeb4ac9",
   "metadata": {},
   "outputs": [
    {
     "name": "stdout",
     "output_type": "stream",
     "text": [
      "10\n"
     ]
    }
   ],
   "source": [
    "print(np.min(math_arr)) #returns the minimum value of a array"
   ]
  },
  {
   "cell_type": "code",
   "execution_count": 23,
   "id": "bda3bc33-34d8-4981-8a8a-6c6bc95c89b6",
   "metadata": {},
   "outputs": [
    {
     "name": "stdout",
     "output_type": "stream",
     "text": [
      "10\n"
     ]
    }
   ],
   "source": [
    "index_arr=np.array([10, 20,30,40,50,60]) \n",
    "print(index_arr[0]) #return the first element of an array"
   ]
  },
  {
   "cell_type": "code",
   "execution_count": 24,
   "id": "2ef36830-7271-4472-b74c-6123d34cc73c",
   "metadata": {},
   "outputs": [
    {
     "name": "stdout",
     "output_type": "stream",
     "text": [
      "60\n"
     ]
    }
   ],
   "source": [
    "print(index_arr[5]) #return the last element of a array"
   ]
  },
  {
   "cell_type": "code",
   "execution_count": 25,
   "id": "e221033b-3f5b-4e41-8822-f824b04fb5f1",
   "metadata": {},
   "outputs": [
    {
     "name": "stdout",
     "output_type": "stream",
     "text": [
      "20\n"
     ]
    }
   ],
   "source": [
    "print(index_arr[-5]) #return the last element of an array"
   ]
  },
  {
   "cell_type": "code",
   "execution_count": 26,
   "id": "a7e05e14-b828-47c6-9765-25dec53af55c",
   "metadata": {},
   "outputs": [
    {
     "name": "stdout",
     "output_type": "stream",
     "text": [
      "[10 20 30 40 50]\n"
     ]
    }
   ],
   "source": [
    "print(index_arr[0:5])#return the 1st to 4th number index element"
   ]
  },
  {
   "cell_type": "code",
   "execution_count": 28,
   "id": "ce28e1be-a55a-4e2c-ac0a-6bedd459d6aa",
   "metadata": {},
   "outputs": [
    {
     "name": "stdout",
     "output_type": "stream",
     "text": [
      "[10 20 30 40]\n"
     ]
    }
   ],
   "source": [
    "print(index_arr[:4]) \n"
   ]
  },
  {
   "cell_type": "code",
   "execution_count": 31,
   "id": "7a0902ee-76f1-4422-ad15-1ce97c68d462",
   "metadata": {},
   "outputs": [
    {
     "name": "stdout",
     "output_type": "stream",
     "text": [
      "[10 30 50]\n"
     ]
    }
   ],
   "source": [
    "print(index_arr[::2]) #this clde will return odd number "
   ]
  },
  {
   "cell_type": "code",
   "execution_count": 32,
   "id": "8f5527c4-0189-43e1-a9b1-cf9e2bbdbd58",
   "metadata": {},
   "outputs": [
    {
     "name": "stdout",
     "output_type": "stream",
     "text": [
      "[10 20 30 40 50 60]\n"
     ]
    }
   ],
   "source": [
    "print(index_arr) "
   ]
  },
  {
   "cell_type": "code",
   "execution_count": 35,
   "id": "785641ba-d38c-4d2e-a9ad-f5f2f395f75d",
   "metadata": {},
   "outputs": [
    {
     "data": {
      "text/plain": [
       "array([40, 50, 60])"
      ]
     },
     "execution_count": 35,
     "metadata": {},
     "output_type": "execute_result"
    }
   ],
   "source": [
    "filt=(index_arr[index_arr>30]) \n",
    "filt#it will filter all the element that are greater than 30"
   ]
  },
  {
   "cell_type": "code",
   "execution_count": 39,
   "id": "a73e11dd-6d91-43dd-b985-99a7e95c8fa5",
   "metadata": {},
   "outputs": [
    {
     "data": {
      "text/plain": [
       "array([[1, 2, 3],\n",
       "       [4, 5, 6]])"
      ]
     },
     "execution_count": 39,
     "metadata": {},
     "output_type": "execute_result"
    }
   ],
   "source": [
    "rsp_arr=np.array([1, 2,3,4,5,6,]) \n",
    "reshaped_arr = rsp_arr.reshape(2, 3) \n",
    "reshaped_arr#this will convert 1D array to 2d array"
   ]
  },
  {
   "cell_type": "code",
   "execution_count": 40,
   "id": "de59a6bc-56b2-4da7-b781-9c4a9904e974",
   "metadata": {},
   "outputs": [],
   "source": [
    "rsp_2d=np.array([[1, 2,3], \n",
    "                 [4, 5,6]]) "
   ]
  },
  {
   "cell_type": "code",
   "execution_count": 41,
   "id": "261ffdd6-a660-4c20-880a-16c7e1d4b082",
   "metadata": {},
   "outputs": [
    {
     "data": {
      "text/plain": [
       "array([[1, 2, 3],\n",
       "       [4, 5, 6]])"
      ]
     },
     "execution_count": 41,
     "metadata": {},
     "output_type": "execute_result"
    }
   ],
   "source": [
    "rsp_2d"
   ]
  },
  {
   "cell_type": "code",
   "execution_count": 43,
   "id": "df3efaf4-f13f-43f7-916f-f3cb83b30609",
   "metadata": {},
   "outputs": [
    {
     "data": {
      "text/plain": [
       "array([1, 2, 3, 4, 5, 6])"
      ]
     },
     "execution_count": 43,
     "metadata": {},
     "output_type": "execute_result"
    }
   ],
   "source": [
    "reshaped_1d_arr=rsp_2d.ravel() \n",
    "reshaped_1d_arr#it will convert 2d array to 1d array"
   ]
  },
  {
   "cell_type": "code",
   "execution_count": 44,
   "id": "9fa8b14b-c892-4300-b377-336117951534",
   "metadata": {},
   "outputs": [
    {
     "data": {
      "text/plain": [
       "array([1, 2, 3, 4, 5, 6])"
      ]
     },
     "execution_count": 44,
     "metadata": {},
     "output_type": "execute_result"
    }
   ],
   "source": [
    "flaten=rsp_2d.flatten() \n",
    "flaten"
   ]
  },
  {
   "cell_type": "code",
   "execution_count": 45,
   "id": "b874fc80-ce01-41e3-807d-b87d91148700",
   "metadata": {},
   "outputs": [
    {
     "data": {
      "text/plain": [
       "array([  1,   2, 100,   3,   4,   5,   6,   7,   8,   9,   0])"
      ]
     },
     "execution_count": 45,
     "metadata": {},
     "output_type": "execute_result"
    }
   ],
   "source": [
    "insert_arr=np.array([1, 2,3,4,5,6,7,8,9,0]) \n",
    "inserted_arr=np.insert(insert_arr, 2,100,axis=0) \n",
    "inserted_arr#it will insert 100 at the index number 2"
   ]
  },
  {
   "cell_type": "code",
   "execution_count": 47,
   "id": "accdc167-5f9f-47b0-9ecf-f8a292898525",
   "metadata": {},
   "outputs": [
    {
     "data": {
      "text/plain": [
       "array([ 10,  20,  30,  40,  50,  60, 200])"
      ]
     },
     "execution_count": 47,
     "metadata": {},
     "output_type": "execute_result"
    }
   ],
   "source": [
    "apd=np.array([10, 20,30,40,50,60]) \n",
    "apd_arr=np.append(apd,200) \n",
    "apd_arr#it will append 200 at the last index of the array"
   ]
  },
  {
   "cell_type": "code",
   "execution_count": 49,
   "id": "5aaa9c97-a484-4a2b-b599-9b54f6d839c3",
   "metadata": {},
   "outputs": [
    {
     "data": {
      "text/plain": [
       "array([[1, 2, 3],\n",
       "       [4, 5, 6],\n",
       "       [7, 8, 9]])"
      ]
     },
     "execution_count": 49,
     "metadata": {},
     "output_type": "execute_result"
    }
   ],
   "source": [
    "ins_2d=np.array([[1, 2,3], \n",
    "                 [4, 5,6]]) \n",
    "ins_2d_arr=np.insert(ins_2d,2, [7, 8,9,], axis=0)\n",
    "ins_2d_arr#insert multiple element in a array"
   ]
  },
  {
   "cell_type": "code",
   "execution_count": 52,
   "id": "65f3eb4e-d868-47f9-8560-60a5a786b4bf",
   "metadata": {},
   "outputs": [
    {
     "data": {
      "text/plain": [
       "array([ 1,  2,  3,  4,  5,  6,  7,  8,  9,  0, 11, 12, 13, 14, 15])"
      ]
     },
     "execution_count": 52,
     "metadata": {},
     "output_type": "execute_result"
    }
   ],
   "source": [
    "apd_2d=np.array([[1, 2,3,4,5], \n",
    "                 [6, 7,8,9,0]]) \n",
    "apd_2d_arr=np.append(apd_2d,[11, 12,13,14,15]) \n",
    "apd_2d_arr#insert multiple element at the last index of a array"
   ]
  },
  {
   "cell_type": "code",
   "execution_count": 57,
   "id": "2e7ae5ea-5668-402d-97b6-b804f61a09b0",
   "metadata": {},
   "outputs": [
    {
     "data": {
      "text/plain": [
       "array([1, 2, 3, 4, 5, 6, 7, 8, 9, 0])"
      ]
     },
     "execution_count": 57,
     "metadata": {},
     "output_type": "execute_result"
    }
   ],
   "source": [
    "arr1=np.array([1, 2,3,4,5]) \n",
    "arr2=np.array([6, 7,8,9,0]) \n",
    "con_arr=np.concatenate((arr1, arr2)) \n",
    "con_arr#it will add two arrays"
   ]
  },
  {
   "cell_type": "code",
   "execution_count": 60,
   "id": "35d359e6-e5cc-492d-b7f6-11f502c569c7",
   "metadata": {},
   "outputs": [
    {
     "data": {
      "text/plain": [
       "array([2, 3, 4, 5, 6, 7])"
      ]
     },
     "execution_count": 60,
     "metadata": {},
     "output_type": "execute_result"
    }
   ],
   "source": [
    "del_arr=np.array([1, 2,3,4,5,6,7]) \n",
    "delete=np.delete(del_arr, 0) \n",
    "delete#it will delete the first element of an array"
   ]
  },
  {
   "cell_type": "code",
   "execution_count": 62,
   "id": "de7cc88d-85fc-4f03-84d6-24c2c919e3c6",
   "metadata": {},
   "outputs": [
    {
     "data": {
      "text/plain": [
       "array([2, 3, 4, 5, 6])"
      ]
     },
     "execution_count": 62,
     "metadata": {},
     "output_type": "execute_result"
    }
   ],
   "source": [
    "del_2d=np.array([[1,2, 3], \n",
    "                 [4, 5,6]]) \n",
    "delete_2d_arr=np.delete(del_2d, 0)\n",
    "delete_2d_arr#delete the first element of an 2d array and return 1d array "
   ]
  },
  {
   "cell_type": "code",
   "execution_count": 65,
   "id": "19f4c00d-6c37-4957-958f-c457e46cd7ff",
   "metadata": {},
   "outputs": [
    {
     "name": "stdout",
     "output_type": "stream",
     "text": [
      "[[1]\n",
      " [2]\n",
      " [3]\n",
      " [4]\n",
      " [5]\n",
      " [6]]\n"
     ]
    }
   ],
   "source": [
    "new_arr_1=np.array([1, 2,3,4,5,6]) \n",
    "new_arr_2=np.array([7, 8,9,10,11,12]) \n",
    "print(np.vstack(new_arr_1)) "
   ]
  },
  {
   "cell_type": "code",
   "execution_count": 66,
   "id": "7a6bddaa-2ff0-4a28-b34a-34a28343a947",
   "metadata": {},
   "outputs": [
    {
     "name": "stdout",
     "output_type": "stream",
     "text": [
      "[[ 7]\n",
      " [ 8]\n",
      " [ 9]\n",
      " [10]\n",
      " [11]\n",
      " [12]]\n"
     ]
    }
   ],
   "source": [
    "print(np.vstack(new_arr_2)) "
   ]
  },
  {
   "cell_type": "code",
   "execution_count": 67,
   "id": "b7ac7402-3ec3-4cf6-8c24-e1e9b2c131fd",
   "metadata": {},
   "outputs": [
    {
     "name": "stdout",
     "output_type": "stream",
     "text": [
      "[1 2 3 4 5 6]\n",
      "[ 7  8  9 10 11 12]\n"
     ]
    }
   ],
   "source": [
    "print(np.hstack(new_arr_1)) \n",
    "print(np.hstack(new_arr_2)) "
   ]
  },
  {
   "cell_type": "code",
   "execution_count": 70,
   "id": "2a159714-3af3-4892-a84e-f88d798e3a57",
   "metadata": {},
   "outputs": [
    {
     "name": "stdout",
     "output_type": "stream",
     "text": [
      "[array([1, 2, 3]), array([4, 5, 6])]\n"
     ]
    }
   ],
   "source": [
    "split_arr=np.array([1, 2,3,4,5,6]) \n",
    "print(np.split(split_arr,2)) #it will split the array into 2 arrays"
   ]
  },
  {
   "cell_type": "code",
   "execution_count": 71,
   "id": "a788af8b-757a-444f-85e8-85fd449b0f1c",
   "metadata": {},
   "outputs": [
    {
     "data": {
      "text/plain": [
       "array([ 200,  400,  600,  800, 1000])"
      ]
     },
     "execution_count": 71,
     "metadata": {},
     "output_type": "execute_result"
    }
   ],
   "source": [
    "math=np.array([100, 200,300,400,500]) \n",
    "result=math*2\n",
    "result#it will multiply 2 to all the element of the array"
   ]
  },
  {
   "cell_type": "code",
   "execution_count": 74,
   "id": "9005d8da-b3b7-4af1-87ba-894e90d3ddb3",
   "metadata": {},
   "outputs": [
    {
     "data": {
      "text/plain": [
       "array([ 7,  9, 11, 13,  5])"
      ]
     },
     "execution_count": 74,
     "metadata": {},
     "output_type": "execute_result"
    }
   ],
   "source": [
    "sum_arr1=np.array([1, 2,3,4,5]) \n",
    "sum_arr2=np.array([6, 7,8,9,0]) \n",
    "new_sum_arr=sum_arr1+sum_arr2\n",
    "new_sum_arr#it will add all the element in the 2 arrays"
   ]
  },
  {
   "cell_type": "code",
   "execution_count": 75,
   "id": "b525b9d5-c643-46e4-aa66-e51d9dffe67b",
   "metadata": {},
   "outputs": [
    {
     "data": {
      "text/plain": [
       "array([[20, 40, 60],\n",
       "       [50, 70, 90]])"
      ]
     },
     "execution_count": 75,
     "metadata": {},
     "output_type": "execute_result"
    }
   ],
   "source": [
    "sum_2d=np.array([[10, 20,30],\n",
    "                 [40, 50,60]]) \n",
    "sum_1d=np.array([10, 20,30]) \n",
    "new_sum=sum_2d+sum_1d\n",
    "new_sum"
   ]
  },
  {
   "cell_type": "code",
   "execution_count": 77,
   "id": "eb6ebe0e-e987-4b96-9960-9fbc5de57d3d",
   "metadata": {},
   "outputs": [
    {
     "data": {
      "text/plain": [
       "array([ 1.,  2., nan,  3.,  4., nan,  6., nan,  7.,  8., nan])"
      ]
     },
     "execution_count": 77,
     "metadata": {},
     "output_type": "execute_result"
    }
   ],
   "source": [
    "nan_arr=np.array([1, 2,np.nan, 3,4,np.nan, 6,np.nan, 7,8,np.nan]) \n",
    "nan_arr#creating nan arrays"
   ]
  },
  {
   "cell_type": "code",
   "execution_count": 79,
   "id": "0b88e8bd-0f46-415d-a004-5a7668e132f6",
   "metadata": {},
   "outputs": [
    {
     "name": "stdout",
     "output_type": "stream",
     "text": [
      "[False False  True False False  True False  True False False  True]\n"
     ]
    }
   ],
   "source": [
    "print(np.isnan(nan_arr))#it will return true when the element will be nan else ruturn false"
   ]
  },
  {
   "cell_type": "code",
   "execution_count": 80,
   "id": "449825e6-dd4c-429c-91c4-1bc84670add6",
   "metadata": {},
   "outputs": [
    {
     "data": {
      "text/plain": [
       "array([1., 2., 0., 3., 4., 0., 6., 0., 7., 8., 0.])"
      ]
     },
     "execution_count": 80,
     "metadata": {},
     "output_type": "execute_result"
    }
   ],
   "source": [
    "filled_arr=np.nan_to_num(nan_arr, nan=0) \n",
    "filled_arr#it will replace nan value to 0"
   ]
  },
  {
   "cell_type": "code",
   "execution_count": 83,
   "id": "ac4ba7f5-0c77-4a00-9d40-538978c38428",
   "metadata": {},
   "outputs": [
    {
     "data": {
      "text/plain": [
       "array([  1.,   2.,   3.,   4.,  inf,   6.,   7.,   8., -inf])"
      ]
     },
     "execution_count": 83,
     "metadata": {},
     "output_type": "execute_result"
    }
   ],
   "source": [
    "inf_arr=np.array([1, 2,3,4,np.inf, 6,7,8,-np.inf]) \n",
    "inf_arr#to create positive and negative infinity value array"
   ]
  },
  {
   "cell_type": "code",
   "execution_count": 84,
   "id": "0a20bdc2-d726-4581-934a-a14d600ea324",
   "metadata": {},
   "outputs": [
    {
     "name": "stdout",
     "output_type": "stream",
     "text": [
      "[False False False False  True False False False  True]\n"
     ]
    }
   ],
   "source": [
    "print(np.isinf(inf_arr)) "
   ]
  },
  {
   "cell_type": "code",
   "execution_count": 85,
   "id": "7fd94749-7d65-4626-a35e-551bb2d1682f",
   "metadata": {},
   "outputs": [
    {
     "data": {
      "text/plain": [
       "array([  1.,   2.,   3.,   4., 100.,   6.,   7.,   8.,   0.])"
      ]
     },
     "execution_count": 85,
     "metadata": {},
     "output_type": "execute_result"
    }
   ],
   "source": [
    "clean_arr=np.nan_to_num(inf_arr, posinf=100, neginf=0) \n",
    "clean_arr#it will replace negative infinity with 0 and positive infinity with 100"
   ]
  },
  {
   "cell_type": "code",
   "execution_count": null,
   "id": "f89f1f76-b056-449a-a5f8-702bd9c6b698",
   "metadata": {},
   "outputs": [],
   "source": []
  }
 ],
 "metadata": {
  "kernelspec": {
   "display_name": "Python 3 (ipykernel)",
   "language": "python",
   "name": "python3"
  },
  "language_info": {
   "codemirror_mode": {
    "name": "ipython",
    "version": 3
   },
   "file_extension": ".py",
   "mimetype": "text/x-python",
   "name": "python",
   "nbconvert_exporter": "python",
   "pygments_lexer": "ipython3",
   "version": "3.13.2"
  }
 },
 "nbformat": 4,
 "nbformat_minor": 5
}
